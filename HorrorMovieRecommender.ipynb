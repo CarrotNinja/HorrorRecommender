{
 "cells": [
  {
   "cell_type": "code",
   "execution_count": 1,
   "id": "22a2e027-048c-430b-83c1-e9ab7e1e1008",
   "metadata": {},
   "outputs": [],
   "source": [
    "import pandas as pd \n",
    "import numpy as np \n",
    "df1=pd.read_csv('TMDB/tmdb_5000_credits.csv')\n",
    "df2=pd.read_excel('TMDB/tmdb_5000_horror.xlsx')"
   ]
  },
  {
   "cell_type": "code",
   "execution_count": 2,
   "id": "77312177-6793-47f7-ab91-9549d2090f0e",
   "metadata": {},
   "outputs": [],
   "source": [
    "df1.columns = ['id','tittle','cast','crew']\n",
    "df2= df2.merge(df1, on='id')"
   ]
  },
  {
   "cell_type": "code",
   "execution_count": 3,
   "id": "00a0b9f8-74d3-49ab-a272-c851e1daf7c9",
   "metadata": {},
   "outputs": [
    {
     "data": {
      "text/html": [
       "<div>\n",
       "<style scoped>\n",
       "    .dataframe tbody tr th:only-of-type {\n",
       "        vertical-align: middle;\n",
       "    }\n",
       "\n",
       "    .dataframe tbody tr th {\n",
       "        vertical-align: top;\n",
       "    }\n",
       "\n",
       "    .dataframe thead th {\n",
       "        text-align: right;\n",
       "    }\n",
       "</style>\n",
       "<table border=\"1\" class=\"dataframe\">\n",
       "  <thead>\n",
       "    <tr style=\"text-align: right;\">\n",
       "      <th></th>\n",
       "      <th>budget</th>\n",
       "      <th>genres</th>\n",
       "      <th>homepage</th>\n",
       "      <th>id</th>\n",
       "      <th>keywords</th>\n",
       "      <th>original_language</th>\n",
       "      <th>original_title</th>\n",
       "      <th>overview</th>\n",
       "      <th>popularity</th>\n",
       "      <th>production_companies</th>\n",
       "      <th>...</th>\n",
       "      <th>runtime</th>\n",
       "      <th>spoken_languages</th>\n",
       "      <th>status</th>\n",
       "      <th>tagline</th>\n",
       "      <th>title</th>\n",
       "      <th>vote_average</th>\n",
       "      <th>vote_count</th>\n",
       "      <th>tittle</th>\n",
       "      <th>cast</th>\n",
       "      <th>crew</th>\n",
       "    </tr>\n",
       "  </thead>\n",
       "  <tbody>\n",
       "    <tr>\n",
       "      <th>0</th>\n",
       "      <td>200000000</td>\n",
       "      <td>[{\"id\": 28, \"name\": \"Action\"}, {\"id\": 18, \"nam...</td>\n",
       "      <td>http://www.worldwarzmovie.com</td>\n",
       "      <td>72190</td>\n",
       "      <td>[{\"id\": 4565, \"name\": \"dystopia\"}, {\"id\": 1233...</td>\n",
       "      <td>en</td>\n",
       "      <td>World War Z</td>\n",
       "      <td>Life for former United Nations investigator Ge...</td>\n",
       "      <td>81.834855</td>\n",
       "      <td>[{\"name\": \"Paramount Pictures\", \"id\": 4}, {\"na...</td>\n",
       "      <td>...</td>\n",
       "      <td>116</td>\n",
       "      <td>[{\"iso_639_1\": \"en\", \"name\": \"English\"}]</td>\n",
       "      <td>Released</td>\n",
       "      <td>Remember Philly!</td>\n",
       "      <td>World War Z</td>\n",
       "      <td>6.7</td>\n",
       "      <td>5560</td>\n",
       "      <td>World War Z</td>\n",
       "      <td>[{\"cast_id\": 4, \"character\": \"Gerry Lane\", \"cr...</td>\n",
       "      <td>[{\"credit_id\": \"52fe485dc3a368484e0f50f9\", \"de...</td>\n",
       "    </tr>\n",
       "    <tr>\n",
       "      <th>1</th>\n",
       "      <td>15000000</td>\n",
       "      <td>[{\"id\": 28, \"name\": \"Action\"}, {\"id\": 12, \"nam...</td>\n",
       "      <td>NaN</td>\n",
       "      <td>315011</td>\n",
       "      <td>[{\"id\": 1299, \"name\": \"monster\"}, {\"id\": 7671,...</td>\n",
       "      <td>ja</td>\n",
       "      <td>??ú?Ÿ??Ÿ¯???????Ÿ?</td>\n",
       "      <td>From the mind behind Evangelion comes a hit la...</td>\n",
       "      <td>9.476999</td>\n",
       "      <td>[{\"name\": \"Cine Bazar\", \"id\": 5896}, {\"name\": ...</td>\n",
       "      <td>...</td>\n",
       "      <td>120</td>\n",
       "      <td>[{\"iso_639_1\": \"it\", \"name\": \"Italiano\"}, {\"is...</td>\n",
       "      <td>Released</td>\n",
       "      <td>A god incarnate. A city doomed.</td>\n",
       "      <td>Shin Godzilla</td>\n",
       "      <td>6.5</td>\n",
       "      <td>143</td>\n",
       "      <td>Shin Godzilla</td>\n",
       "      <td>[{\"cast_id\": 4, \"character\": \"Rando Yaguchi : ...</td>\n",
       "      <td>[{\"credit_id\": \"5921d321c3a368799b05933f\", \"de...</td>\n",
       "    </tr>\n",
       "    <tr>\n",
       "      <th>2</th>\n",
       "      <td>150000000</td>\n",
       "      <td>[{\"id\": 18, \"name\": \"Drama\"}, {\"id\": 27, \"name...</td>\n",
       "      <td>http://iamlegend.warnerbros.com/</td>\n",
       "      <td>6479</td>\n",
       "      <td>[{\"id\": 83, \"name\": \"saving the world\"}, {\"id\"...</td>\n",
       "      <td>en</td>\n",
       "      <td>I Am Legend</td>\n",
       "      <td>Robert Neville is a scientist who was unable t...</td>\n",
       "      <td>70.867401</td>\n",
       "      <td>[{\"name\": \"Village Roadshow Pictures\", \"id\": 7...</td>\n",
       "      <td>...</td>\n",
       "      <td>101</td>\n",
       "      <td>[{\"iso_639_1\": \"en\", \"name\": \"English\"}]</td>\n",
       "      <td>Released</td>\n",
       "      <td>The last man on Earth is not alone</td>\n",
       "      <td>I Am Legend</td>\n",
       "      <td>6.9</td>\n",
       "      <td>4853</td>\n",
       "      <td>I Am Legend</td>\n",
       "      <td>[{\"cast_id\": 19, \"character\": \"Robert Neville\"...</td>\n",
       "      <td>[{\"credit_id\": \"52fe4455c3a36847f808fbeb\", \"de...</td>\n",
       "    </tr>\n",
       "    <tr>\n",
       "      <th>3</th>\n",
       "      <td>150000000</td>\n",
       "      <td>[{\"id\": 18, \"name\": \"Drama\"}, {\"id\": 27, \"name...</td>\n",
       "      <td>http://www.thewolfmanmovie.com/</td>\n",
       "      <td>7978</td>\n",
       "      <td>[{\"id\": 494, \"name\": \"father son relationship\"...</td>\n",
       "      <td>en</td>\n",
       "      <td>The Wolfman</td>\n",
       "      <td>Lawrence Talbot, an American man on a visit to...</td>\n",
       "      <td>21.214571</td>\n",
       "      <td>[{\"name\": \"Universal Pictures\", \"id\": 33}, {\"n...</td>\n",
       "      <td>...</td>\n",
       "      <td>102</td>\n",
       "      <td>[{\"iso_639_1\": \"en\", \"name\": \"English\"}]</td>\n",
       "      <td>Released</td>\n",
       "      <td>When the moon is full the legend comes to life</td>\n",
       "      <td>The Wolfman</td>\n",
       "      <td>5.5</td>\n",
       "      <td>549</td>\n",
       "      <td>The Wolfman</td>\n",
       "      <td>[{\"cast_id\": 3, \"character\": \"Lawrence Talbot\"...</td>\n",
       "      <td>[{\"credit_id\": \"538aeb0a0e0a266718000fc2\", \"de...</td>\n",
       "    </tr>\n",
       "    <tr>\n",
       "      <th>4</th>\n",
       "      <td>110000000</td>\n",
       "      <td>[{\"id\": 53, \"name\": \"Thriller\"}, {\"id\": 28, \"n...</td>\n",
       "      <td>http://www.sonypictures.com/movies/ghostrider/</td>\n",
       "      <td>1250</td>\n",
       "      <td>[{\"id\": 2870, \"name\": \"mephisto\"}, {\"id\": 3684...</td>\n",
       "      <td>en</td>\n",
       "      <td>Ghost Rider</td>\n",
       "      <td>In order to save his dying father, young stunt...</td>\n",
       "      <td>46.834704</td>\n",
       "      <td>[{\"name\": \"Columbia Pictures Corporation\", \"id...</td>\n",
       "      <td>...</td>\n",
       "      <td>114</td>\n",
       "      <td>[{\"iso_639_1\": \"en\", \"name\": \"English\"}]</td>\n",
       "      <td>Released</td>\n",
       "      <td>Hell Is About To Be Unleashed</td>\n",
       "      <td>Ghost Rider</td>\n",
       "      <td>5.2</td>\n",
       "      <td>1712</td>\n",
       "      <td>Ghost Rider</td>\n",
       "      <td>[{\"cast_id\": 11, \"character\": \"Johnny Blaze/Gh...</td>\n",
       "      <td>[{\"credit_id\": \"552e34e692514138730082ed\", \"de...</td>\n",
       "    </tr>\n",
       "  </tbody>\n",
       "</table>\n",
       "<p>5 rows × 23 columns</p>\n",
       "</div>"
      ],
      "text/plain": [
       "      budget                                             genres  \\\n",
       "0  200000000  [{\"id\": 28, \"name\": \"Action\"}, {\"id\": 18, \"nam...   \n",
       "1   15000000  [{\"id\": 28, \"name\": \"Action\"}, {\"id\": 12, \"nam...   \n",
       "2  150000000  [{\"id\": 18, \"name\": \"Drama\"}, {\"id\": 27, \"name...   \n",
       "3  150000000  [{\"id\": 18, \"name\": \"Drama\"}, {\"id\": 27, \"name...   \n",
       "4  110000000  [{\"id\": 53, \"name\": \"Thriller\"}, {\"id\": 28, \"n...   \n",
       "\n",
       "                                         homepage      id  \\\n",
       "0                   http://www.worldwarzmovie.com   72190   \n",
       "1                                             NaN  315011   \n",
       "2                http://iamlegend.warnerbros.com/    6479   \n",
       "3                 http://www.thewolfmanmovie.com/    7978   \n",
       "4  http://www.sonypictures.com/movies/ghostrider/    1250   \n",
       "\n",
       "                                            keywords original_language  \\\n",
       "0  [{\"id\": 4565, \"name\": \"dystopia\"}, {\"id\": 1233...                en   \n",
       "1  [{\"id\": 1299, \"name\": \"monster\"}, {\"id\": 7671,...                ja   \n",
       "2  [{\"id\": 83, \"name\": \"saving the world\"}, {\"id\"...                en   \n",
       "3  [{\"id\": 494, \"name\": \"father son relationship\"...                en   \n",
       "4  [{\"id\": 2870, \"name\": \"mephisto\"}, {\"id\": 3684...                en   \n",
       "\n",
       "       original_title                                           overview  \\\n",
       "0         World War Z  Life for former United Nations investigator Ge...   \n",
       "1  ??ú?Ÿ??Ÿ¯???????Ÿ?  From the mind behind Evangelion comes a hit la...   \n",
       "2         I Am Legend  Robert Neville is a scientist who was unable t...   \n",
       "3         The Wolfman  Lawrence Talbot, an American man on a visit to...   \n",
       "4         Ghost Rider  In order to save his dying father, young stunt...   \n",
       "\n",
       "   popularity                               production_companies  ... runtime  \\\n",
       "0   81.834855  [{\"name\": \"Paramount Pictures\", \"id\": 4}, {\"na...  ...     116   \n",
       "1    9.476999  [{\"name\": \"Cine Bazar\", \"id\": 5896}, {\"name\": ...  ...     120   \n",
       "2   70.867401  [{\"name\": \"Village Roadshow Pictures\", \"id\": 7...  ...     101   \n",
       "3   21.214571  [{\"name\": \"Universal Pictures\", \"id\": 33}, {\"n...  ...     102   \n",
       "4   46.834704  [{\"name\": \"Columbia Pictures Corporation\", \"id...  ...     114   \n",
       "\n",
       "                                    spoken_languages    status  \\\n",
       "0           [{\"iso_639_1\": \"en\", \"name\": \"English\"}]  Released   \n",
       "1  [{\"iso_639_1\": \"it\", \"name\": \"Italiano\"}, {\"is...  Released   \n",
       "2           [{\"iso_639_1\": \"en\", \"name\": \"English\"}]  Released   \n",
       "3           [{\"iso_639_1\": \"en\", \"name\": \"English\"}]  Released   \n",
       "4           [{\"iso_639_1\": \"en\", \"name\": \"English\"}]  Released   \n",
       "\n",
       "                                          tagline          title vote_average  \\\n",
       "0                                Remember Philly!    World War Z          6.7   \n",
       "1                 A god incarnate. A city doomed.  Shin Godzilla          6.5   \n",
       "2              The last man on Earth is not alone    I Am Legend          6.9   \n",
       "3  When the moon is full the legend comes to life    The Wolfman          5.5   \n",
       "4                   Hell Is About To Be Unleashed    Ghost Rider          5.2   \n",
       "\n",
       "  vote_count         tittle  \\\n",
       "0       5560    World War Z   \n",
       "1        143  Shin Godzilla   \n",
       "2       4853    I Am Legend   \n",
       "3        549    The Wolfman   \n",
       "4       1712    Ghost Rider   \n",
       "\n",
       "                                                cast  \\\n",
       "0  [{\"cast_id\": 4, \"character\": \"Gerry Lane\", \"cr...   \n",
       "1  [{\"cast_id\": 4, \"character\": \"Rando Yaguchi : ...   \n",
       "2  [{\"cast_id\": 19, \"character\": \"Robert Neville\"...   \n",
       "3  [{\"cast_id\": 3, \"character\": \"Lawrence Talbot\"...   \n",
       "4  [{\"cast_id\": 11, \"character\": \"Johnny Blaze/Gh...   \n",
       "\n",
       "                                                crew  \n",
       "0  [{\"credit_id\": \"52fe485dc3a368484e0f50f9\", \"de...  \n",
       "1  [{\"credit_id\": \"5921d321c3a368799b05933f\", \"de...  \n",
       "2  [{\"credit_id\": \"52fe4455c3a36847f808fbeb\", \"de...  \n",
       "3  [{\"credit_id\": \"538aeb0a0e0a266718000fc2\", \"de...  \n",
       "4  [{\"credit_id\": \"552e34e692514138730082ed\", \"de...  \n",
       "\n",
       "[5 rows x 23 columns]"
      ]
     },
     "execution_count": 3,
     "metadata": {},
     "output_type": "execute_result"
    }
   ],
   "source": [
    "df2.head(5)"
   ]
  },
  {
   "cell_type": "markdown",
   "id": "cf746474-d00f-4838-ad74-b7711df23867",
   "metadata": {},
   "source": [
    "Now we will carry out Demographic filtering"
   ]
  },
  {
   "cell_type": "code",
   "execution_count": 4,
   "id": "87675521-f100-49c9-8c3d-a0f945784459",
   "metadata": {},
   "outputs": [
    {
     "data": {
      "text/plain": [
       "5.626589595375722"
      ]
     },
     "execution_count": 4,
     "metadata": {},
     "output_type": "execute_result"
    }
   ],
   "source": [
    "C= df2['vote_average'].mean()\n",
    "C"
   ]
  },
  {
   "cell_type": "code",
   "execution_count": 5,
   "id": "f00fc03e-087c-4497-8d06-ff4184aba3a3",
   "metadata": {},
   "outputs": [
    {
     "data": {
      "text/plain": [
       "1273.5999999999997"
      ]
     },
     "execution_count": 5,
     "metadata": {},
     "output_type": "execute_result"
    }
   ],
   "source": [
    "m= df2['vote_count'].quantile(0.9)\n",
    "m"
   ]
  },
  {
   "cell_type": "code",
   "execution_count": 6,
   "id": "425208b1-43ae-46d0-8f79-4e4954c89ec4",
   "metadata": {},
   "outputs": [
    {
     "data": {
      "text/plain": [
       "(52, 23)"
      ]
     },
     "execution_count": 6,
     "metadata": {},
     "output_type": "execute_result"
    }
   ],
   "source": [
    "q_movies = df2.copy().loc[df2['vote_count'] >= m]\n",
    "q_movies.shape"
   ]
  },
  {
   "cell_type": "code",
   "execution_count": 7,
   "id": "91ea80b6-6228-43f2-a21d-b345dacc6de8",
   "metadata": {},
   "outputs": [],
   "source": [
    "def weighted_rating(x, m=m, C=C):\n",
    "    v = x['vote_count']\n",
    "    R = x['vote_average']\n",
    "    # Calculation based on the IMDB formula\n",
    "    return (v/(v+m) * R) + (m/(m+v) * C)"
   ]
  },
  {
   "cell_type": "code",
   "execution_count": 8,
   "id": "83d553a6-1be9-4487-aea7-4180a719d504",
   "metadata": {},
   "outputs": [],
   "source": [
    "# Define a new feature 'score' and calculate its value with `weighted_rating()`\n",
    "q_movies['score'] = q_movies.apply(weighted_rating, axis=1)"
   ]
  },
  {
   "cell_type": "code",
   "execution_count": 9,
   "id": "d07cdc93-fd6c-4ab5-9ee7-d03ef156803c",
   "metadata": {},
   "outputs": [
    {
     "data": {
      "text/html": [
       "<div>\n",
       "<style scoped>\n",
       "    .dataframe tbody tr th:only-of-type {\n",
       "        vertical-align: middle;\n",
       "    }\n",
       "\n",
       "    .dataframe tbody tr th {\n",
       "        vertical-align: top;\n",
       "    }\n",
       "\n",
       "    .dataframe thead th {\n",
       "        text-align: right;\n",
       "    }\n",
       "</style>\n",
       "<table border=\"1\" class=\"dataframe\">\n",
       "  <thead>\n",
       "    <tr style=\"text-align: right;\">\n",
       "      <th></th>\n",
       "      <th>title</th>\n",
       "      <th>vote_count</th>\n",
       "      <th>vote_average</th>\n",
       "      <th>score</th>\n",
       "    </tr>\n",
       "  </thead>\n",
       "  <tbody>\n",
       "    <tr>\n",
       "      <th>156</th>\n",
       "      <td>The Shining</td>\n",
       "      <td>3757</td>\n",
       "      <td>8.1</td>\n",
       "      <td>7.473805</td>\n",
       "    </tr>\n",
       "    <tr>\n",
       "      <th>267</th>\n",
       "      <td>Alien</td>\n",
       "      <td>4470</td>\n",
       "      <td>7.9</td>\n",
       "      <td>7.395888</td>\n",
       "    </tr>\n",
       "    <tr>\n",
       "      <th>146</th>\n",
       "      <td>Psycho</td>\n",
       "      <td>2320</td>\n",
       "      <td>8.2</td>\n",
       "      <td>7.287963</td>\n",
       "    </tr>\n",
       "    <tr>\n",
       "      <th>169</th>\n",
       "      <td>Aliens</td>\n",
       "      <td>3220</td>\n",
       "      <td>7.7</td>\n",
       "      <td>7.112343</td>\n",
       "    </tr>\n",
       "    <tr>\n",
       "      <th>133</th>\n",
       "      <td>The Conjuring</td>\n",
       "      <td>3092</td>\n",
       "      <td>7.4</td>\n",
       "      <td>6.882633</td>\n",
       "    </tr>\n",
       "    <tr>\n",
       "      <th>220</th>\n",
       "      <td>Jaws</td>\n",
       "      <td>2542</td>\n",
       "      <td>7.5</td>\n",
       "      <td>6.874679</td>\n",
       "    </tr>\n",
       "    <tr>\n",
       "      <th>323</th>\n",
       "      <td>Shaun of the Dead</td>\n",
       "      <td>2420</td>\n",
       "      <td>7.5</td>\n",
       "      <td>6.854024</td>\n",
       "    </tr>\n",
       "    <tr>\n",
       "      <th>64</th>\n",
       "      <td>The Thing</td>\n",
       "      <td>1588</td>\n",
       "      <td>7.8</td>\n",
       "      <td>6.832690</td>\n",
       "    </tr>\n",
       "    <tr>\n",
       "      <th>125</th>\n",
       "      <td>Zombieland</td>\n",
       "      <td>3550</td>\n",
       "      <td>7.2</td>\n",
       "      <td>6.784564</td>\n",
       "    </tr>\n",
       "    <tr>\n",
       "      <th>219</th>\n",
       "      <td>The Exorcist</td>\n",
       "      <td>2005</td>\n",
       "      <td>7.5</td>\n",
       "      <td>6.772258</td>\n",
       "    </tr>\n",
       "  </tbody>\n",
       "</table>\n",
       "</div>"
      ],
      "text/plain": [
       "                 title  vote_count  vote_average     score\n",
       "156        The Shining        3757           8.1  7.473805\n",
       "267              Alien        4470           7.9  7.395888\n",
       "146             Psycho        2320           8.2  7.287963\n",
       "169             Aliens        3220           7.7  7.112343\n",
       "133      The Conjuring        3092           7.4  6.882633\n",
       "220               Jaws        2542           7.5  6.874679\n",
       "323  Shaun of the Dead        2420           7.5  6.854024\n",
       "64           The Thing        1588           7.8  6.832690\n",
       "125         Zombieland        3550           7.2  6.784564\n",
       "219       The Exorcist        2005           7.5  6.772258"
      ]
     },
     "execution_count": 9,
     "metadata": {},
     "output_type": "execute_result"
    }
   ],
   "source": [
    "#Sort movies based on score calculated above\n",
    "q_movies = q_movies.sort_values('score', ascending=False)\n",
    "\n",
    "#Print the top 15 movies\n",
    "q_movies[['title', 'vote_count', 'vote_average', 'score']].head(10)"
   ]
  },
  {
   "cell_type": "code",
   "execution_count": 10,
   "id": "01103d6f-d973-4f2f-a472-b028dba43aa6",
   "metadata": {},
   "outputs": [
    {
     "data": {
      "text/plain": [
       "Text(0.5, 1.0, 'Popular Movies')"
      ]
     },
     "execution_count": 10,
     "metadata": {},
     "output_type": "execute_result"
    },
    {
     "data": {
      "image/png": "[encoded data removed]",
      "text/plain": [
       "<Figure size 1200x400 with 1 Axes>"
      ]
     },
     "metadata": {},
     "output_type": "display_data"
    }
   ],
   "source": [
    "pop= df2.sort_values('popularity', ascending=False)\n",
    "import matplotlib.pyplot as plt\n",
    "plt.figure(figsize=(12,4))\n",
    "\n",
    "plt.barh(pop['title'].head(6),pop['popularity'].head(6), align='center',\n",
    "        color='skyblue')\n",
    "plt.gca().invert_yaxis()\n",
    "plt.xlabel(\"Popularity\")\n",
    "plt.title(\"Popular Movies\")"
   ]
  },
  {
   "cell_type": "markdown",
   "id": "6eeb938f-8f4f-4df5-9d00-e64c1490897c",
   "metadata": {},
   "source": [
    "Content based filtering:"
   ]
  },
  {
   "cell_type": "code",
   "execution_count": 11,
   "id": "47daf654-e62f-409f-9592-6e61375c5747",
   "metadata": {},
   "outputs": [
    {
     "data": {
      "text/plain": [
       "0    Life for former United Nations investigator Ge...\n",
       "1    From the mind behind Evangelion comes a hit la...\n",
       "2    Robert Neville is a scientist who was unable t...\n",
       "3    Lawrence Talbot, an American man on a visit to...\n",
       "4    In order to save his dying father, young stunt...\n",
       "Name: overview, dtype: object"
      ]
     },
     "execution_count": 11,
     "metadata": {},
     "output_type": "execute_result"
    }
   ],
   "source": [
    "df2['overview'].head(5)"
   ]
  },
  {
   "cell_type": "code",
   "execution_count": 12,
   "id": "fed714a3-79d0-4e30-a65d-864eb53e95d5",
   "metadata": {},
   "outputs": [
    {
     "data": {
      "text/plain": [
       "(519, 5082)"
      ]
     },
     "execution_count": 12,
     "metadata": {},
     "output_type": "execute_result"
    }
   ],
   "source": [
    "#Import TfIdfVectorizer from scikit-learn\n",
    "from sklearn.feature_extraction.text import TfidfVectorizer\n",
    "\n",
    "#Define a TF-IDF Vectorizer Object. Remove all english stop words such as 'the', 'a'\n",
    "tfidf = TfidfVectorizer(stop_words='english')\n",
    "\n",
    "#Replace NaN with an empty string\n",
    "df2['overview'] = df2['overview'].fillna('')\n",
    "\n",
    "#Construct the required TF-IDF matrix by fitting and transforming the data\n",
    "tfidf_matrix = tfidf.fit_transform(df2['overview'])\n",
    "\n",
    "#Output the shape of tfidf_matrix\n",
    "tfidf_matrix.shape"
   ]
  },
  {
   "cell_type": "code",
   "execution_count": 13,
   "id": "b32af20f-5662-4420-9146-1a50bb712334",
   "metadata": {},
   "outputs": [],
   "source": [
    "# Import linear_kernel\n",
    "from sklearn.metrics.pairwise import linear_kernel\n",
    "\n",
    "# Compute the cosine similarity matrix\n",
    "cosine_sim = linear_kernel(tfidf_matrix, tfidf_matrix)"
   ]
  },
  {
   "cell_type": "code",
   "execution_count": 14,
   "id": "6f47b1f7-fd39-4c17-b091-3efa4cef5079",
   "metadata": {},
   "outputs": [],
   "source": [
    "#Construct a reverse map of indices and movie titles\n",
    "indices = pd.Series(df2.index, index=df2['title']).drop_duplicates()\n"
   ]
  },
  {
   "cell_type": "code",
   "execution_count": 15,
   "id": "cd746d1e-6f6e-4ba9-affe-e173740be1c5",
   "metadata": {},
   "outputs": [],
   "source": [
    "# Function that takes in movie title as input and outputs most similar movies\n",
    "def get_recommendations(title, cosine_sim=cosine_sim):\n",
    "    # Get the index of the movie that matches the title\n",
    "    idx = indices[title]\n",
    "\n",
    "    # Get the pairwsie similarity scores of all movies with that movie\n",
    "    sim_scores = list(enumerate(cosine_sim[idx]))\n",
    "\n",
    "    # Sort the movies based on the similarity scores\n",
    "    sim_scores = sorted(sim_scores, key=lambda x: x[1], reverse=True)\n",
    "\n",
    "    # Get the scores of the 10 most similar movies\n",
    "    sim_scores = sim_scores[1:11]\n",
    "\n",
    "    # Get the movie indices\n",
    "    movie_indices = [i[0] for i in sim_scores]\n",
    "\n",
    "    # Return the top 10 most similar movies\n",
    "    return df2['title'].iloc[movie_indices]"
   ]
  },
  {
   "cell_type": "code",
   "execution_count": 16,
   "id": "12e2f5bd-135e-469a-a0c1-2b3e8eabbbd7",
   "metadata": {},
   "outputs": [
    {
     "data": {
      "text/plain": [
       "287                  The Omega Code\n",
       "160                Land of the Dead\n",
       "59         The Island of Dr. Moreau\n",
       "69                    Resident Evil\n",
       "182                         Slither\n",
       "309            Insidious: Chapter 2\n",
       "472    All the Boys Love Mandy Lane\n",
       "398     Jack Brooks: Monster Slayer\n",
       "147      Silent Hill: Revelation 3D\n",
       "473                            Bled\n",
       "Name: title, dtype: object"
      ]
     },
     "execution_count": 16,
     "metadata": {},
     "output_type": "execute_result"
    }
   ],
   "source": [
    "get_recommendations('World War Z')"
   ]
  },
  {
   "cell_type": "code",
   "execution_count": 17,
   "id": "aacf818c-c58b-43a4-b521-32d78b2217c1",
   "metadata": {},
   "outputs": [
    {
     "data": {
      "text/plain": [
       "344             Survival of the Dead\n",
       "236                 Army of Darkness\n",
       "352                        Red State\n",
       "275                    The Lost Boys\n",
       "182                          Slither\n",
       "22                         The Relic\n",
       "214                         The Mist\n",
       "45                       Deep Rising\n",
       "301    The Return of the Living Dead\n",
       "78                 Snakes on a Plane\n",
       "Name: title, dtype: object"
      ]
     },
     "execution_count": 17,
     "metadata": {},
     "output_type": "execute_result"
    }
   ],
   "source": [
    "get_recommendations('Arachnophobia')"
   ]
  },
  {
   "cell_type": "code",
   "execution_count": 18,
   "id": "47c56e09-1ec2-4be8-8d9c-70d59f7c27af",
   "metadata": {},
   "outputs": [],
   "source": [
    "# Parse the stringified features into their corresponding python objects\n",
    "from ast import literal_eval\n",
    "\n",
    "features = ['cast', 'crew', 'keywords', 'genres']\n",
    "for feature in features:\n",
    "    df2[feature] = df2[feature].apply(literal_eval)"
   ]
  },
  {
   "cell_type": "code",
   "execution_count": 19,
   "id": "97d37318-4097-4473-bdf7-b650ba4b6ff0",
   "metadata": {},
   "outputs": [],
   "source": [
    "# Get the director's name from the crew feature. If director is not listed, return NaN\n",
    "def get_director(x):\n",
    "    for i in x:\n",
    "        if i['job'] == 'Director':\n",
    "            return i['name']\n",
    "    return np.nan"
   ]
  },
  {
   "cell_type": "code",
   "execution_count": 20,
   "id": "f44f4205-a5fd-4a6b-a079-9d8444de9397",
   "metadata": {},
   "outputs": [],
   "source": [
    "# Returns the list top 3 elements or entire list; whichever is more.\n",
    "def get_list(x):\n",
    "    if isinstance(x, list):\n",
    "        names = [i['name'] for i in x]\n",
    "        #Check if more than 3 elements exist. If yes, return only first three. If no, return entire list.\n",
    "        if len(names) > 3:\n",
    "            names = names[:3]\n",
    "        return names\n",
    "\n",
    "    #Return empty list in case of missing/malformed data\n",
    "    return []"
   ]
  },
  {
   "cell_type": "code",
   "execution_count": 21,
   "id": "bc56449b-d9a4-4e42-b0bb-51b6fa0b2138",
   "metadata": {},
   "outputs": [],
   "source": [
    "# Define new director, cast, genres and keywords features that are in a suitable form.\n",
    "df2['director'] = df2['crew'].apply(get_director)\n",
    "\n",
    "features = ['cast', 'keywords', 'genres']\n",
    "for feature in features:\n",
    "    df2[feature] = df2[feature].apply(get_list)"
   ]
  },
  {
   "cell_type": "code",
   "execution_count": 22,
   "id": "c8c4a9a4-bbe4-44ca-89f2-fe9033493a2b",
   "metadata": {},
   "outputs": [
    {
     "data": {
      "text/html": [
       "<div>\n",
       "<style scoped>\n",
       "    .dataframe tbody tr th:only-of-type {\n",
       "        vertical-align: middle;\n",
       "    }\n",
       "\n",
       "    .dataframe tbody tr th {\n",
       "        vertical-align: top;\n",
       "    }\n",
       "\n",
       "    .dataframe thead th {\n",
       "        text-align: right;\n",
       "    }\n",
       "</style>\n",
       "<table border=\"1\" class=\"dataframe\">\n",
       "  <thead>\n",
       "    <tr style=\"text-align: right;\">\n",
       "      <th></th>\n",
       "      <th>title</th>\n",
       "      <th>cast</th>\n",
       "      <th>director</th>\n",
       "      <th>keywords</th>\n",
       "      <th>genres</th>\n",
       "    </tr>\n",
       "  </thead>\n",
       "  <tbody>\n",
       "    <tr>\n",
       "      <th>0</th>\n",
       "      <td>World War Z</td>\n",
       "      <td>[Brad Pitt, Mireille Enos, Abigail Hargrove]</td>\n",
       "      <td>Marc Forster</td>\n",
       "      <td>[dystopia, apocalypse, zombie]</td>\n",
       "      <td>[Action, Drama, Horror]</td>\n",
       "    </tr>\n",
       "    <tr>\n",
       "      <th>1</th>\n",
       "      <td>Shin Godzilla</td>\n",
       "      <td>[Hiroki Hasegawa, Yutaka Takenouchi, Satomi Is...</td>\n",
       "      <td>Hideaki Anno</td>\n",
       "      <td>[monster, godzilla, giant monster]</td>\n",
       "      <td>[Action, Adventure, Drama]</td>\n",
       "    </tr>\n",
       "    <tr>\n",
       "      <th>2</th>\n",
       "      <td>I Am Legend</td>\n",
       "      <td>[Will Smith, Alice Braga, Charlie Tahan]</td>\n",
       "      <td>Francis Lawrence</td>\n",
       "      <td>[saving the world, lost civilisation, post-apo...</td>\n",
       "      <td>[Drama, Horror, Action]</td>\n",
       "    </tr>\n",
       "  </tbody>\n",
       "</table>\n",
       "</div>"
      ],
      "text/plain": [
       "           title                                               cast  \\\n",
       "0    World War Z       [Brad Pitt, Mireille Enos, Abigail Hargrove]   \n",
       "1  Shin Godzilla  [Hiroki Hasegawa, Yutaka Takenouchi, Satomi Is...   \n",
       "2    I Am Legend           [Will Smith, Alice Braga, Charlie Tahan]   \n",
       "\n",
       "           director                                           keywords  \\\n",
       "0      Marc Forster                     [dystopia, apocalypse, zombie]   \n",
       "1      Hideaki Anno                 [monster, godzilla, giant monster]   \n",
       "2  Francis Lawrence  [saving the world, lost civilisation, post-apo...   \n",
       "\n",
       "                       genres  \n",
       "0     [Action, Drama, Horror]  \n",
       "1  [Action, Adventure, Drama]  \n",
       "2     [Drama, Horror, Action]  "
      ]
     },
     "execution_count": 22,
     "metadata": {},
     "output_type": "execute_result"
    }
   ],
   "source": [
    "# Print the new features of the first 3 films\n",
    "df2[['title', 'cast', 'director', 'keywords', 'genres']].head(3)"
   ]
  },
  {
   "cell_type": "code",
   "execution_count": 23,
   "id": "4aa35fee-ecdc-4ff2-b7d9-da20f22b5e4d",
   "metadata": {},
   "outputs": [],
   "source": [
    "# Function to convert all strings to lower case and strip names of spaces\n",
    "def clean_data(x):\n",
    "    if isinstance(x, list):\n",
    "        return [str.lower(i.replace(\" \", \"\")) for i in x]\n",
    "    else:\n",
    "        #Check if director exists. If not, return empty string\n",
    "        if isinstance(x, str):\n",
    "            return str.lower(x.replace(\" \", \"\"))\n",
    "        else:\n",
    "            return ''"
   ]
  },
  {
   "cell_type": "code",
   "execution_count": 24,
   "id": "fab14e19-962e-421c-ad05-fb1f252a0d0a",
   "metadata": {},
   "outputs": [],
   "source": [
    "# Apply clean_data function to your features.\n",
    "features = ['cast', 'keywords', 'director', 'genres']\n",
    "\n",
    "for feature in features:\n",
    "    df2[feature] = df2[feature].apply(clean_data)"
   ]
  },
  {
   "cell_type": "code",
   "execution_count": 25,
   "id": "c03d1006-1d91-4a27-add7-454578ec531e",
   "metadata": {},
   "outputs": [],
   "source": [
    "def create_soup(x):\n",
    "    return ' '.join(x['keywords']) + ' ' + ' '.join(x['cast']) + ' ' + x['director'] + ' ' + ' '.join(x['genres'])\n",
    "df2['soup'] = df2.apply(create_soup, axis=1)"
   ]
  },
  {
   "cell_type": "code",
   "execution_count": 26,
   "id": "a9bb4971-3281-4817-a3e4-c5bfd285ea01",
   "metadata": {},
   "outputs": [],
   "source": [
    "# Import CountVectorizer and create the count matrix\n",
    "from sklearn.feature_extraction.text import CountVectorizer\n",
    "\n",
    "count = CountVectorizer(stop_words='english')\n",
    "count_matrix = count.fit_transform(df2['soup'])"
   ]
  },
  {
   "cell_type": "code",
   "execution_count": 27,
   "id": "c36e305a-7b8c-4d0e-a660-2d1da50b1fac",
   "metadata": {},
   "outputs": [],
   "source": [
    "# Compute the Cosine Similarity matrix based on the count_matrix\n",
    "from sklearn.metrics.pairwise import cosine_similarity\n",
    "\n",
    "cosine_sim2 = cosine_similarity(count_matrix, count_matrix)"
   ]
  },
  {
   "cell_type": "code",
   "execution_count": 28,
   "id": "efa35a52-82b2-4a5b-9b28-9a5537270b99",
   "metadata": {},
   "outputs": [],
   "source": [
    "# Reset index of our main DataFrame and construct reverse mapping as before\n",
    "df2 = df2.reset_index()\n",
    "indices = pd.Series(df2.index, index=df2['title'])"
   ]
  },
  {
   "cell_type": "code",
   "execution_count": 29,
   "id": "5746b949-0db4-4939-bf01-ed2894ef3669",
   "metadata": {},
   "outputs": [
    {
     "data": {
      "text/plain": [
       "275                                      The Lost Boys\n",
       "182                                            Slither\n",
       "233                                           Gremlins\n",
       "409                            Lesbian Vampire Killers\n",
       "343    R.L. Stine's Monsterville: The Cabinet of Souls\n",
       "405                                              Teeth\n",
       "479                                    Girls Gone Dead\n",
       "485                       Love in the Time of Monsters\n",
       "351                                  A Haunted House 2\n",
       "433                              Incident at Loch Ness\n",
       "Name: title, dtype: object"
      ]
     },
     "execution_count": 29,
     "metadata": {},
     "output_type": "execute_result"
    }
   ],
   "source": [
    "get_recommendations('Arachnophobia', cosine_sim2)"
   ]
  },
  {
   "cell_type": "code",
   "execution_count": 30,
   "id": "b9c6359f-f2a4-4dd8-8af8-d5027136b63b",
   "metadata": {},
   "outputs": [
    {
     "data": {
      "text/plain": [
       "15               Underworld: Awakening\n",
       "16     Abraham Lincoln: Vampire Hunter\n",
       "31                            Blade II\n",
       "35      Hansel & Gretel: Witch Hunters\n",
       "142                        Daybreakers\n",
       "151                  Alone in the Dark\n",
       "5                          End of Days\n",
       "47                     Red Riding Hood\n",
       "324      The Haunting of Molly Hartley\n",
       "474               Escape from Tomorrow\n",
       "Name: title, dtype: object"
      ]
     },
     "execution_count": 30,
     "metadata": {},
     "output_type": "execute_result"
    }
   ],
   "source": [
    "get_recommendations('Dawn of the Dead', cosine_sim2)"
   ]
  }
 ],
 "metadata": {
  "kernelspec": {
   "display_name": "My Environment",
   "language": "python",
   "name": "myenv"
  },
  "language_info": {
   "codemirror_mode": {
    "name": "ipython",
    "version": 3
   },
   "file_extension": ".py",
   "mimetype": "text/x-python",
   "name": "python",
   "nbconvert_exporter": "python",
   "pygments_lexer": "ipython3",
   "version": "3.8.18"
  }
 },
 "nbformat": 4,
 "nbformat_minor": 5
}
